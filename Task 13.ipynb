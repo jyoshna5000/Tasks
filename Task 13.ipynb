{
 "cells": [
  {
   "cell_type": "markdown",
   "id": "a050960e",
   "metadata": {},
   "source": [
    "1. Write a function called \"add_numbers\" that takes two integers as input and returns their sum.\n",
    "\n",
    "2. Write a function called \"multiply_numbers\" that takes two integers as input and returns their product.\n",
    "\n",
    "3. Write a function called \"calculate_average\" that takes a list of numbers as input and returns the average of thosenumbers.\n",
    "\n",
    "4. Write a function called \"is_even\" that takes an integer as input and returns True if the number is even, and False otherwise.\n",
    "\n",
    "5. Write a function called \"reverse_string\" that takes a string as input and returns the reverse of that string.\n",
    "\n",
    "6. Write a function called \"count_vowels\" that takes a string as input and returns the number of vowels (a, e, i, o, u) in that string.\n",
    "\n",
    "7. Write a function called \"find_max\" that takes a list of numbers as input and returns the maximum value in that list.                                                                                             \n",
    "8. Write a function called \"find_min\" that takes a list of numbers as input and returns the minimum value in that list."
   ]
  },
  {
   "cell_type": "code",
   "execution_count": null,
   "id": "37b9bf9a",
   "metadata": {},
   "outputs": [],
   "source": [
    "  Write a function called \"add_numbers\" that takes two integers as input and returns their sum"
   ]
  },
  {
   "cell_type": "code",
   "execution_count": 1,
   "id": "ba14e6b7",
   "metadata": {},
   "outputs": [],
   "source": [
    "def add_numbers(a,b):\n",
    "    print(a+b)"
   ]
  },
  {
   "cell_type": "code",
   "execution_count": 2,
   "id": "e3d96edf",
   "metadata": {},
   "outputs": [
    {
     "name": "stdout",
     "output_type": "stream",
     "text": [
      "16\n"
     ]
    }
   ],
   "source": [
    "add_numbers(10,6)"
   ]
  },
  {
   "cell_type": "code",
   "execution_count": null,
   "id": "9f079728",
   "metadata": {},
   "outputs": [],
   "source": [
    "Write a function called \"multiply_numbers\" that takes two integers as input and returns their produc"
   ]
  },
  {
   "cell_type": "code",
   "execution_count": 3,
   "id": "52e91f1c",
   "metadata": {},
   "outputs": [],
   "source": [
    "def multiply_numbers(a,b):\n",
    "    print(a * b)"
   ]
  },
  {
   "cell_type": "code",
   "execution_count": 5,
   "id": "c0525588",
   "metadata": {},
   "outputs": [
    {
     "name": "stdout",
     "output_type": "stream",
     "text": [
      "36\n"
     ]
    }
   ],
   "source": [
    "multiply_numbers(6,6)"
   ]
  },
  {
   "cell_type": "code",
   "execution_count": null,
   "id": "dbbd62cd",
   "metadata": {},
   "outputs": [],
   "source": [
    "Write a function called \"calculate_average\" that takes a list of numbers as input and returns the average of thosenumbers."
   ]
  },
  {
   "cell_type": "code",
   "execution_count": 6,
   "id": "29d95f4d",
   "metadata": {},
   "outputs": [],
   "source": [
    "def calculate_average(a):\n",
    "    print(sum(a)/len(a))"
   ]
  },
  {
   "cell_type": "code",
   "execution_count": 7,
   "id": "759178c1",
   "metadata": {},
   "outputs": [
    {
     "name": "stdout",
     "output_type": "stream",
     "text": [
      "6.2\n"
     ]
    }
   ],
   "source": [
    "calculate_average([5,5,11,6,4])"
   ]
  },
  {
   "cell_type": "code",
   "execution_count": null,
   "id": "7552b341",
   "metadata": {},
   "outputs": [],
   "source": [
    "Write a function called \"is_even\" that takes an integer as input and returns True if the number is even, and False otherwise."
   ]
  },
  {
   "cell_type": "code",
   "execution_count": 5,
   "id": "bbaebc19",
   "metadata": {},
   "outputs": [],
   "source": [
    "def is_even(a):\n",
    "    if a%2==0:\n",
    "        print(True)\n",
    "    else:\n",
    "        print(False)\n",
    "        "
   ]
  },
  {
   "cell_type": "code",
   "execution_count": 6,
   "id": "c33853fa",
   "metadata": {},
   "outputs": [
    {
     "name": "stdout",
     "output_type": "stream",
     "text": [
      "True\n"
     ]
    }
   ],
   "source": [
    "is_even(8)"
   ]
  },
  {
   "cell_type": "code",
   "execution_count": null,
   "id": "e1ca72c8",
   "metadata": {},
   "outputs": [],
   "source": [
    "Write a function called \"reverse_string\" that takes a string as input and returns the reverse of that string."
   ]
  },
  {
   "cell_type": "code",
   "execution_count": 7,
   "id": "f7bc07e1",
   "metadata": {},
   "outputs": [],
   "source": [
    "def reverse_string(x):\n",
    "    print(x[::-1])"
   ]
  },
  {
   "cell_type": "code",
   "execution_count": 12,
   "id": "32249dc8",
   "metadata": {},
   "outputs": [
    {
     "name": "stdout",
     "output_type": "stream",
     "text": [
      "['i', 'a', 'e', 'a', 'i', 'a', 'a', 'i', 'e', 'e']\n",
      "The vowels present in this are :  10\n"
     ]
    }
   ],
   "source": [
    "count = []\n",
    "vowels = ['a','e','i','o','u']\n",
    "def count_vowels(a):\n",
    "    for i in a:\n",
    "        if i in vowels:\n",
    "            count.append(i)\n",
    "    print(count)\n",
    "    print(\"The vowels present in this are : \", len(count))\n",
    "count_vowels(\"i am learning Data science\")"
   ]
  },
  {
   "cell_type": "code",
   "execution_count": null,
   "id": "af75a3fa",
   "metadata": {},
   "outputs": [],
   "source": [
    "7. Write a function called \"find_max\" that takes a list of numbers as input and returns the maximum value in that list."
   ]
  },
  {
   "cell_type": "code",
   "execution_count": 13,
   "id": "0358ea81",
   "metadata": {},
   "outputs": [],
   "source": [
    "def find_max(a):\n",
    "    print(max(a))\n",
    "a =[1,4,7,9,10,2]"
   ]
  },
  {
   "cell_type": "code",
   "execution_count": 14,
   "id": "f799b795",
   "metadata": {},
   "outputs": [
    {
     "name": "stdout",
     "output_type": "stream",
     "text": [
      "10\n"
     ]
    }
   ],
   "source": [
    "find_max(a)"
   ]
  },
  {
   "cell_type": "code",
   "execution_count": null,
   "id": "b10fd659",
   "metadata": {},
   "outputs": [],
   "source": [
    "8. Write a function called \"find_min\" that takes a list of numbers as input and returns the minimum value in that list."
   ]
  },
  {
   "cell_type": "code",
   "execution_count": 17,
   "id": "54ec4c78",
   "metadata": {},
   "outputs": [],
   "source": [
    "def find_min(b):\n",
    "    print(min(b))\n",
    "b = [3,4,2,5,8,10,7]"
   ]
  },
  {
   "cell_type": "code",
   "execution_count": 18,
   "id": "e30692c5",
   "metadata": {},
   "outputs": [
    {
     "name": "stdout",
     "output_type": "stream",
     "text": [
      "2\n"
     ]
    }
   ],
   "source": [
    "find_min(b)"
   ]
  },
  {
   "cell_type": "code",
   "execution_count": null,
   "id": "2570af4b",
   "metadata": {},
   "outputs": [],
   "source": []
  }
 ],
 "metadata": {
  "kernelspec": {
   "display_name": "Python 3 (ipykernel)",
   "language": "python",
   "name": "python3"
  },
  "language_info": {
   "codemirror_mode": {
    "name": "ipython",
    "version": 3
   },
   "file_extension": ".py",
   "mimetype": "text/x-python",
   "name": "python",
   "nbconvert_exporter": "python",
   "pygments_lexer": "ipython3",
   "version": "3.11.4"
  }
 },
 "nbformat": 4,
 "nbformat_minor": 5
}
