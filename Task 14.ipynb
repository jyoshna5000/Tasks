{
 "cells": [
  {
   "cell_type": "raw",
   "id": "cbb90ece",
   "metadata": {},
   "source": [
    "Create a lambda function that takes two arguments and returns their sum.\n",
    "Create another lambda function that takes a single argument and returns its square.\n",
    "Use the lambda functions to calculate the sum and square of various numbers and print the results.\n",
    "Define a list of integers.\n",
    "Use the filter function to create a new list that contains only the even numbers from the original list.\n",
    "Use the filter function again to create a new list that contains only numbers greater than 10 from the original list.\n",
    "Print both filtered lists.\n",
    "Define a list of strings where each string represents a number (e.g., [\"1\", \"2\", \"3\"]).\n",
    "Use the map function to convert each string to an integer and store the result in a new list.\n",
    "Use the map function again to square each integer in the new list and store the result in another new list.\n",
    "Print both new lists.\n",
    "Create a list of dictionaries, where each dictionary represents a person with keys \"name\" and \"age\". Example: [{\"name\": \"Alice\", \"age\": 30}, {\"name\": \"Bob\", \"age\": 25}, ...]\n",
    "Use the filter function to create a new list that contains only the people who are older than 25.\n",
    "Use the map function to create a new list that contains the names of the filtered people.\n",
    "Print the list of names.\n",
    "Create a program that reads a list of numbers from the user (you can use the input function for this).\n",
    "Use map and filter functions to perform the following operations:\n",
    "Square each number.\n",
    "Filter out numbers that are not divisible by 3.\n",
    "Print the result.\n",
    " "
   ]
  },
  {
   "cell_type": "code",
   "execution_count": null,
   "id": "65b4537e",
   "metadata": {},
   "outputs": [],
   "source": [
    "\n",
    "data=[1,3,3.4,5.2,\"swathi\",\"akhil\" ]\n",
    "def flo(n):\n",
    "    if type(n)==float:\n",
    "        return n\n",
    "list(filter(flo,data))\n",
    "[3.4, 5.2]\n",
    "\n",
    "data=[2,3,4.6,7.8,\"swathi\",\"akhila\"]\n",
    "def jyo(n):\n",
    "    if type(n)==str:\n",
    "        return n\n",
    "list(filter(jyo,data))    \n",
    "['swathi', 'akhila']\n",
    "\n",
    "data=[2,4,6.7,4.6,\"jyoshns\",\"swathi\"]\n",
    "def jyo(n):\n",
    "    if type(n)==int:\n",
    "        return \"integer\"\n",
    "    elif type(n)==float:\n",
    "            return \"float\"\n",
    "    else:\n",
    "         return \"string\"\n",
    "list(map(jyo,data))\n",
    "    \n",
    "['integer', 'integer', 'float', 'float', 'string', 'string']"
   ]
  },
  {
   "cell_type": "code",
   "execution_count": null,
   "id": "6e4a81fb",
   "metadata": {},
   "outputs": [],
   "source": [
    "1.Create a lambda function that takes two arguments and returns their sum."
   ]
  },
  {
   "cell_type": "code",
   "execution_count": 8,
   "id": "c80d14c7",
   "metadata": {},
   "outputs": [],
   "source": [
    "c = lambda *n: sum(n)"
   ]
  },
  {
   "cell_type": "code",
   "execution_count": 9,
   "id": "7c6d1428",
   "metadata": {},
   "outputs": [
    {
     "data": {
      "text/plain": [
       "11"
      ]
     },
     "execution_count": 9,
     "metadata": {},
     "output_type": "execute_result"
    }
   ],
   "source": [
    "c(5,6)"
   ]
  },
  {
   "cell_type": "code",
   "execution_count": null,
   "id": "0364327e",
   "metadata": {},
   "outputs": [],
   "source": [
    "Create another lambda function that takes a single argument and returns its square."
   ]
  },
  {
   "cell_type": "code",
   "execution_count": 18,
   "id": "d473dc8a",
   "metadata": {},
   "outputs": [],
   "source": [
    "c = lambda n: n**2"
   ]
  },
  {
   "cell_type": "code",
   "execution_count": 19,
   "id": "69ad3cbd",
   "metadata": {},
   "outputs": [
    {
     "data": {
      "text/plain": [
       "25"
      ]
     },
     "execution_count": 19,
     "metadata": {},
     "output_type": "execute_result"
    }
   ],
   "source": [
    "c(5)"
   ]
  },
  {
   "cell_type": "code",
   "execution_count": null,
   "id": "3110cdae",
   "metadata": {},
   "outputs": [],
   "source": [
    "Use the lambda functions to calculate the sum and square of various numbers and print the results"
   ]
  },
  {
   "cell_type": "code",
   "execution_count": 42,
   "id": "66627160",
   "metadata": {},
   "outputs": [],
   "source": [
    "val = lambda n: n**2\n",
    "val = lambda n: sum(n)"
   ]
  },
  {
   "cell_type": "code",
   "execution_count": 3,
   "id": "38f59dbe",
   "metadata": {},
   "outputs": [
    {
     "name": "stdout",
     "output_type": "stream",
     "text": [
      "9\n",
      "2 3 4\n"
     ]
    }
   ],
   "source": [
    "print(9)\n",
    "print(2,3,4)"
   ]
  },
  {
   "cell_type": "code",
   "execution_count": null,
   "id": "60826480",
   "metadata": {},
   "outputs": [],
   "source": [
    "2.Define a list of integers.\n",
    " - Use the `filter` function to create a new list that contains only the even numbers from the original list.\n",
    " - Use the `filter` function again to create a new list that contains only numbers greater than 10 from the original list.\n",
    " - Print both filtered list"
   ]
  },
  {
   "cell_type": "code",
   "execution_count": 11,
   "id": "32caa5a2",
   "metadata": {},
   "outputs": [],
   "source": [
    "listInt = [33,34,23,12,34,32,2,15,17,8,12,34,5,1,3]"
   ]
  },
  {
   "cell_type": "code",
   "execution_count": 12,
   "id": "d735413a",
   "metadata": {},
   "outputs": [],
   "source": [
    "def even(n):\n",
    "    if n%2==0:\n",
    "        return n"
   ]
  },
  {
   "cell_type": "code",
   "execution_count": 14,
   "id": "990e6dc6",
   "metadata": {},
   "outputs": [
    {
     "data": {
      "text/plain": [
       "[34, 12, 34, 32, 2, 8, 12, 34]"
      ]
     },
     "execution_count": 14,
     "metadata": {},
     "output_type": "execute_result"
    }
   ],
   "source": [
    "c =list(filter(even,listInt))\n",
    "c"
   ]
  },
  {
   "cell_type": "code",
   "execution_count": 16,
   "id": "aca61f14",
   "metadata": {},
   "outputs": [],
   "source": [
    "def gr10(n):\n",
    "    if n>10:\n",
    "        return n"
   ]
  },
  {
   "cell_type": "code",
   "execution_count": 17,
   "id": "1618c1e1",
   "metadata": {},
   "outputs": [
    {
     "data": {
      "text/plain": [
       "[33, 34, 23, 12, 34, 32, 15, 17, 12, 34]"
      ]
     },
     "execution_count": 17,
     "metadata": {},
     "output_type": "execute_result"
    }
   ],
   "source": [
    "great =list(filter(gr10,listInt))\n",
    "great"
   ]
  },
  {
   "cell_type": "code",
   "execution_count": 18,
   "id": "28664ffc",
   "metadata": {},
   "outputs": [
    {
     "name": "stdout",
     "output_type": "stream",
     "text": [
      "[34, 12, 34, 32, 2, 8, 12, 34]\n",
      "[33, 34, 23, 12, 34, 32, 15, 17, 12, 34]\n"
     ]
    }
   ],
   "source": [
    "print(c)\n",
    "print(great)"
   ]
  },
  {
   "cell_type": "code",
   "execution_count": null,
   "id": "c95e4ea7",
   "metadata": {},
   "outputs": [],
   "source": [
    "3. - Define a list of strings where each string represents a number (e.g., `[\"1\", \"2\", \"3\"]`).\n",
    "   - Use the `map` function to convert each string to an integer and store the result in a new list.\n",
    "   - Use the `map` function again to square each integer in the new list and store the result in another new list.\n",
    "   - Print both new lists"
   ]
  },
  {
   "cell_type": "code",
   "execution_count": 10,
   "id": "14ae418b",
   "metadata": {},
   "outputs": [],
   "source": [
    "liststring=[\"1\",\"2\",\"3\",\"4\",\"5\",\"6\",\"7\",\"8\"]"
   ]
  },
  {
   "cell_type": "code",
   "execution_count": 11,
   "id": "efba8715",
   "metadata": {},
   "outputs": [],
   "source": [
    "def string(n):\n",
    "    if liststring[0] == int(n):\n",
    "        return n"
   ]
  },
  {
   "cell_type": "code",
   "execution_count": 12,
   "id": "52f3c50d",
   "metadata": {},
   "outputs": [],
   "source": [
    "newlists = list(map(int,liststring))\n"
   ]
  },
  {
   "cell_type": "code",
   "execution_count": 13,
   "id": "9e003693",
   "metadata": {},
   "outputs": [
    {
     "data": {
      "text/plain": [
       "[1, 2, 3, 4, 5, 6, 7, 8]"
      ]
     },
     "execution_count": 13,
     "metadata": {},
     "output_type": "execute_result"
    }
   ],
   "source": [
    "newlists"
   ]
  },
  {
   "cell_type": "code",
   "execution_count": 14,
   "id": "a4494ae5",
   "metadata": {},
   "outputs": [],
   "source": [
    "def square(n):\n",
    "    if n > 0:\n",
    "        return n*n\n",
    "    else:\n",
    "        pass"
   ]
  },
  {
   "cell_type": "code",
   "execution_count": 15,
   "id": "4dbf85c5",
   "metadata": {},
   "outputs": [
    {
     "name": "stdout",
     "output_type": "stream",
     "text": [
      "square of a each number from the list [1, 4, 9, 16, 25, 36, 49, 64]\n"
     ]
    }
   ],
   "source": [
    "squarelist = list(map(square,newlists))\n",
    "print(\"square of a each number from the list\" ,squarelist)"
   ]
  },
  {
   "cell_type": "code",
   "execution_count": null,
   "id": "112c9da7",
   "metadata": {},
   "outputs": [],
   "source": [
    "4. - Create a list of dictionaries, where each dictionary represents a person with keys \"name\" and \"age\". Example: ` [{\"name\": \"Alice\", \"age\": 30}, {\"name\": \"Bob\", \"age\": 25}, ...]`\n",
    "   - Use the `filter` function to create a new list that contains only the people who are older than 25.\n",
    "   - Use the `map` function to create a new list that contains the names of the filtered people.\n",
    "   - Print the list of names."
   ]
  },
  {
   "cell_type": "code",
   "execution_count": 27,
   "id": "a406402b",
   "metadata": {},
   "outputs": [],
   "source": [
    "info =  [{\"name\": \"jyoshna\", \"age\": 24}, {\"name\": \"akhila\", \"age\": 35}, {\"name\": \"pandu\", \"age\": 30} ]"
   ]
  },
  {
   "cell_type": "code",
   "execution_count": 28,
   "id": "580c5393",
   "metadata": {},
   "outputs": [],
   "source": [
    "def older(n):\n",
    "    if n[\"age\"] >= 25:\n",
    "        return n"
   ]
  },
  {
   "cell_type": "code",
   "execution_count": 29,
   "id": "a3e00953",
   "metadata": {},
   "outputs": [
    {
     "data": {
      "text/plain": [
       "[{'name': 'akhila', 'age': 35}, {'name': 'pandu', 'age': 30}]"
      ]
     },
     "execution_count": 29,
     "metadata": {},
     "output_type": "execute_result"
    }
   ],
   "source": [
    "olderlist = list(filter(older,info))\n",
    "olderlist"
   ]
  },
  {
   "cell_type": "code",
   "execution_count": 30,
   "id": "5197bc5a",
   "metadata": {},
   "outputs": [],
   "source": [
    "def name1(n):\n",
    "    return {\"name\" : n[\"name\"]}"
   ]
  },
  {
   "cell_type": "code",
   "execution_count": 31,
   "id": "3ceea82b",
   "metadata": {},
   "outputs": [
    {
     "data": {
      "text/plain": [
       "[{'name': 'akhila'}, {'name': 'pandu'}]"
      ]
     },
     "execution_count": 31,
     "metadata": {},
     "output_type": "execute_result"
    }
   ],
   "source": [
    "filteredlist = list(map(name1,olderlist))\n",
    "filteredlist"
   ]
  },
  {
   "cell_type": "code",
   "execution_count": null,
   "id": "82d8f9a1",
   "metadata": {},
   "outputs": [],
   "source": [
    " 5. - Create a program that reads a list of numbers from the user (you can use the `input` function for this).\n",
    "    - Use `map` and `filter` functions to perform the following operations:\n",
    "     - Square each number.\n",
    "     - Filter out numbers that are not divisible by 3.\n",
    "     - Print the result.\n"
   ]
  },
  {
   "cell_type": "code",
   "execution_count": 38,
   "id": "d2a9962c",
   "metadata": {},
   "outputs": [
    {
     "name": "stdout",
     "output_type": "stream",
     "text": [
      "enter the number of integers u want : 5\n"
     ]
    },
    {
     "data": {
      "text/plain": [
       "[1, 4, 9, 16]"
      ]
     },
     "execution_count": 38,
     "metadata": {},
     "output_type": "execute_result"
    }
   ],
   "source": [
    "n = int(input(\"enter the number of integers u want : \"))\n",
    "list(map(lambda n: n**2,range(1,n)))"
   ]
  },
  {
   "cell_type": "code",
   "execution_count": 40,
   "id": "c1c32223",
   "metadata": {},
   "outputs": [
    {
     "name": "stdout",
     "output_type": "stream",
     "text": [
      "enter the number of integers u want : 10\n"
     ]
    }
   ],
   "source": [
    "n = int(input(\"enter the number of integers u want : \"))\n",
    "list1 = []\n",
    "for i in range(1,n):\n",
    "    list1.append(i)"
   ]
  },
  {
   "cell_type": "code",
   "execution_count": 41,
   "id": "865500e8",
   "metadata": {},
   "outputs": [
    {
     "data": {
      "text/plain": [
       "[1, 2, 3, 4, 5, 6, 7, 8, 9]"
      ]
     },
     "execution_count": 41,
     "metadata": {},
     "output_type": "execute_result"
    }
   ],
   "source": [
    "list1"
   ]
  },
  {
   "cell_type": "code",
   "execution_count": 42,
   "id": "40eeafb2",
   "metadata": {},
   "outputs": [
    {
     "data": {
      "text/plain": [
       "[1, 2, 4, 5, 7, 8]"
      ]
     },
     "execution_count": 42,
     "metadata": {},
     "output_type": "execute_result"
    }
   ],
   "source": [
    "def num(n):\n",
    "    if n % 3 !=0:\n",
    "        return n\n",
    "list(filter(num,list1))    "
   ]
  },
  {
   "cell_type": "code",
   "execution_count": null,
   "id": "3b56a266",
   "metadata": {},
   "outputs": [],
   "source": []
  }
 ],
 "metadata": {
  "kernelspec": {
   "display_name": "Python 3 (ipykernel)",
   "language": "python",
   "name": "python3"
  },
  "language_info": {
   "codemirror_mode": {
    "name": "ipython",
    "version": 3
   },
   "file_extension": ".py",
   "mimetype": "text/x-python",
   "name": "python",
   "nbconvert_exporter": "python",
   "pygments_lexer": "ipython3",
   "version": "3.11.4"
  }
 },
 "nbformat": 4,
 "nbformat_minor": 5
}
